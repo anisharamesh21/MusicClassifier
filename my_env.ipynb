{
 "cells": [
  {
   "cell_type": "code",
   "execution_count": null,
   "id": "93f853bc",
   "metadata": {},
   "outputs": [
    {
     "name": "stdout",
     "output_type": "stream",
     "text": [
      "Pandas version: 2.3.1\n",
      "Librosa version: 0.11.0\n"
     ]
    }
   ],
   "source": [
    "# Testing Imports \n",
    "import pandas as pd\n",
    "import librosa\n",
    "print(\"Pandas version:\", pd.__version__)\n",
    "print(\"Librosa version:\", librosa.__version__)"
   ]
  }
 ],
 "metadata": {
  "kernelspec": {
   "display_name": "music_genre_env",
   "language": "python",
   "name": "python3"
  },
  "language_info": {
   "codemirror_mode": {
    "name": "ipython",
    "version": 3
   },
   "file_extension": ".py",
   "mimetype": "text/x-python",
   "name": "python",
   "nbconvert_exporter": "python",
   "pygments_lexer": "ipython3",
   "version": "3.10.18"
  }
 },
 "nbformat": 4,
 "nbformat_minor": 5
}
