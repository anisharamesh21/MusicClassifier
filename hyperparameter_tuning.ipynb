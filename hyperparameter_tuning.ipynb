{
 "cells": [
  {
   "cell_type": "code",
   "execution_count": null,
   "id": "4f4c08ba",
   "metadata": {},
   "outputs": [
    {
     "name": "stdout",
     "output_type": "stream",
     "text": [
      "Best Parameters:  {'C': 0.1, 'max_iter': 1000, 'solver': 'lbfgs'}\n",
      "Best Score:  0.6908411949685535\n"
     ]
    }
   ],
   "source": [
    "import pandas as pd\n",
    "import matplotlib.pyplot as plt \n",
    "import seaborn as sns \n",
    "from sklearn.preprocessing import StandardScaler, LabelEncoder \n",
    "from sklearn.linear_model import LogisticRegression\n",
    "from sklearn.model_selection import train_test_split, GridSearchCV, StratifiedKFold \n",
    "from sklearn.metrics import accuracy_score, classification_report, confusion_matrix   \n",
    "import warnings\n",
    "warnings.filterwarnings('ignore')  \n",
    "\n",
    "## Loading features from text file into a Pandas dataframe\n",
    "features = pd.read_csv('features.txt', delimiter='\\t')\n",
    "\n",
    "X = features.drop(['Genre'], axis=1)\n",
    "y = features['Genre'] \n",
    "\n",
    "le = LabelEncoder() # Label Encoding is more suitable for ordered data\n",
    "y_encoded=le.fit_transform(y) # Groups every song and its features with a numerical label based on genre\n",
    "\n",
    "X_train, X_test, y_train, y_test = train_test_split(X, y_encoded, test_size=0.2, random_state=1, stratify=y_encoded) \n",
    "# stratify ensures all genres are trained and tested\n",
    "\n",
    "scaler = StandardScaler()\n",
    "X_train_scaled = scaler.fit_transform(X_train)\n",
    "\n",
    "## Hyperparameter Tuning\n",
    "param_grid = {\n",
    "    'C':[0.1,1,10,1000],\n",
    "    'solver':['liblinear','lbfgs'],\n",
    "    'max_iter':[1000, 5000]\n",
    "}\n",
    "\n",
    "grid_search = GridSearchCV(LogisticRegression(random_state=1), param_grid, cv=5, scoring='accuracy')\n",
    "grid_search.fit(X_train_scaled, y_train)\n",
    "\n",
    "print(\"Best Parameters: \",grid_search.best_params_)\n",
    "print(\"Best Score: \", grid_search.best_score_)\n",
    "\n",
    "## Observations\n",
    "## The results show the stability of Logisitic Regression\n",
    "## The features and preprocessing are already well-suited since the best score is extremely close to actual score\n",
    "## The model has been evaluated clearly\n"
   ]
  }
 ],
 "metadata": {
  "kernelspec": {
   "display_name": "music_genre_env",
   "language": "python",
   "name": "python3"
  },
  "language_info": {
   "codemirror_mode": {
    "name": "ipython",
    "version": 3
   },
   "file_extension": ".py",
   "mimetype": "text/x-python",
   "name": "python",
   "nbconvert_exporter": "python",
   "pygments_lexer": "ipython3",
   "version": "3.10.18"
  }
 },
 "nbformat": 4,
 "nbformat_minor": 5
}
