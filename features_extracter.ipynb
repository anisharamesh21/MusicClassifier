{
 "cells": [
  {
   "cell_type": "code",
   "execution_count": 16,
   "id": "de13a024",
   "metadata": {},
   "outputs": [],
   "source": [
    "import pandas as pd\n",
    "import numpy as np\n",
    "import os \n",
    "import librosa           \n",
    "import librosa.display   \n",
    "from sklearn.model_selection import train_test_split, GridSearchCV, StratifiedKFold \n",
    "from sklearn.preprocessing import StandardScaler, LabelEncoder \n",
    "from sklearn.linear_model import LogisticRegression\n",
    "from sklearn.svm import SVC                   \n",
    "from sklearn.ensemble import RandomForestClassifier\n",
    "from sklearn.neighbors import KNeighborsClassifier \n",
    "from sklearn.tree import DecisionTreeClassifier \n",
    "from sklearn.metrics import accuracy_score, classification_report, confusion_matrix \n",
    "import matplotlib.pyplot as plt \n",
    "import seaborn as sns    \n",
    "import warnings\n",
    "warnings.filterwarnings('ignore')       \n",
    "\n",
    "base_path = \"C:/Users/anish/OneDrive/Desktop/ML/MusicClassifier/Data/genres_original\"\n",
    "all_files = os.listdir(base_path)\n",
    "list_of_rows  = []\n",
    "for genre_folder in all_files:\n",
    "    genre_path = os.path.join(base_path, genre_folder)\n",
    "    songs = os.listdir(genre_path)\n",
    "    for song in songs:\n",
    "        try:\n",
    "            song_path = os.path.join(genre_path, song)\n",
    "            y, sr = librosa.load(song_path, sr=None)\n",
    "            zcr = librosa.feature.zero_crossing_rate(y)\n",
    "            zcr_mean = np.mean(zcr)\n",
    "            zcr_sd = np.std(zcr)\n",
    "            spectral_centroid = librosa.feature.spectral_centroid(y=y, sr=sr)\n",
    "            sc_mean = np.mean(spectral_centroid)\n",
    "            sc_sd = np.std(spectral_centroid)\n",
    "            mfcc = librosa.feature.mfcc(y=y, sr=sr, n_fft=256, n_mels=40)\n",
    "            mfcc_mean = np.mean(mfcc)\n",
    "            mfcc_sd = np.std(mfcc)\n",
    "            new_row = {'Genre': genre_folder, 'ZCR':zcr_mean, 'Spectral Centroid':sc_mean, 'MFCC':mfcc_mean}\n",
    "            list_of_rows.append(new_row)\n",
    "        except:\n",
    "            continue\n",
    "\n",
    "music_analytics = pd.DataFrame(list_of_rows)\n",
    "\n",
    "\n"
   ]
  }
 ],
 "metadata": {
  "kernelspec": {
   "display_name": "music_genre_env",
   "language": "python",
   "name": "python3"
  },
  "language_info": {
   "codemirror_mode": {
    "name": "ipython",
    "version": 3
   },
   "file_extension": ".py",
   "mimetype": "text/x-python",
   "name": "python",
   "nbconvert_exporter": "python",
   "pygments_lexer": "ipython3",
   "version": "3.10.18"
  }
 },
 "nbformat": 4,
 "nbformat_minor": 5
}
