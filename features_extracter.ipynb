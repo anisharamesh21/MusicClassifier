{
 "cells": [
  {
   "cell_type": "code",
   "execution_count": null,
   "id": "de13a024",
   "metadata": {},
   "outputs": [
    {
     "name": "stdout",
     "output_type": "stream",
     "text": [
      "\n"
     ]
    }
   ],
   "source": [
    "import pandas as pd\n",
    "import numpy as np\n",
    "import os\n",
    "from pathlib import Path\n",
    "import librosa           \n",
    "import librosa.display     \n",
    "import warnings\n",
    "warnings.filterwarnings('ignore')       \n",
    "\n",
    "\n",
    "## Extraction of audio features\n",
    "base_path = Path.cwd()\n",
    "all_files = base_path/\"Data\"/\"genres_original\"\n",
    "list_of_rows  = []\n",
    "for genre_folder in all_files.iterdir():\n",
    "    genre_path = all_files/genre_folder\n",
    "    genre_name = genre_folder.name\n",
    "    for song in genre_path.iterdir():\n",
    "        try:\n",
    "            song_path = genre_path/song\n",
    "            y, sr = librosa.load(song_path, sr=None, mono=True) # Mono ensures only 1 signal is accepted so only 1D array is created\n",
    "            zcr = librosa.feature.zero_crossing_rate(y)\n",
    "            zcr_mean = np.mean(zcr)\n",
    "            zcr_sd = np.std(zcr)\n",
    "            spectral_centroid = librosa.feature.spectral_centroid(y=y, sr=sr)\n",
    "            sc_mean = np.mean(spectral_centroid)\n",
    "            sc_sd = np.std(spectral_centroid)\n",
    "            new_row = {'Genre': genre_name ,'ZCR Mean':zcr_mean, 'ZCR STD': zcr_sd, 'Spectral Centroid Mean':sc_mean,\n",
    "                       'Spectral Centroid STD': sc_sd}\n",
    "            mfccs = librosa.feature.mfcc(y=y, sr=sr, n_mfcc=40,n_fft=256, n_mels=40)\n",
    "            for i in range(len(mfccs)):\n",
    "                idx = str(i+1)\n",
    "                mfcc_mean = np.mean(mfccs[i])\n",
    "                mfcc_sd = np.std(mfccs[i])\n",
    "                mean_name = 'MFCC ' + idx + ' MEAN'\n",
    "                std_name = 'MFCC ' + idx + ' STD'\n",
    "                new_row[mean_name]=mfcc_mean\n",
    "                new_row[std_name]=mfcc_sd\n",
    "            list_of_rows.append(new_row)\n",
    "        except Exception as e:\n",
    "            print(e)\n",
    "            continue\n",
    "\n",
    "## Creating a dataframe with the extracted features\n",
    "music_analytics = pd.DataFrame(list_of_rows)\n",
    "music_analytics.to_csv('features.txt', sep='\\t', index=False)\n",
    "\n",
    "\n"
   ]
  }
 ],
 "metadata": {
  "kernelspec": {
   "display_name": "music_genre_env",
   "language": "python",
   "name": "python3"
  },
  "language_info": {
   "codemirror_mode": {
    "name": "ipython",
    "version": 3
   },
   "file_extension": ".py",
   "mimetype": "text/x-python",
   "name": "python",
   "nbconvert_exporter": "python",
   "pygments_lexer": "ipython3",
   "version": "3.10.18"
  }
 },
 "nbformat": 4,
 "nbformat_minor": 5
}
